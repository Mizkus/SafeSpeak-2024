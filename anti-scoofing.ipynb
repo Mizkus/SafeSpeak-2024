{
 "cells": [
  {
   "cell_type": "code",
   "execution_count": null,
   "metadata": {
    "execution": {
     "iopub.execute_input": "2024-11-24T05:07:53.468345Z",
     "iopub.status.busy": "2024-11-24T05:07:53.467606Z",
     "iopub.status.idle": "2024-11-24T05:08:44.027388Z",
     "shell.execute_reply": "2024-11-24T05:08:44.026504Z",
     "shell.execute_reply.started": "2024-11-24T05:07:53.468313Z"
    },
    "trusted": true
   },
   "outputs": [],
   "source": [
    "import random\n",
    "from typing import Union\n",
    "from torch.utils.data import Dataset, DataLoader\n",
    "import soundfile as sf\n",
    "import numpy as np\n",
    "import torch\n",
    "import torch.nn as nn\n",
    "import torch.nn.functional as F\n",
    "from torch import Tensor\n",
    "import fairseq\n",
    "import argparse\n",
    "import time"
   ]
  },
  {
   "cell_type": "code",
   "execution_count": null,
   "metadata": {
    "execution": {
     "iopub.execute_input": "2024-11-24T05:08:44.030171Z",
     "iopub.status.busy": "2024-11-24T05:08:44.029787Z",
     "iopub.status.idle": "2024-11-24T05:09:12.001495Z",
     "shell.execute_reply": "2024-11-24T05:09:12.000805Z",
     "shell.execute_reply.started": "2024-11-24T05:08:44.030127Z"
    },
    "trusted": true
   },
   "outputs": [],
   "source": [
    "\n",
    "class SSLModel(nn.Module):\n",
    "    def __init__(self, device):\n",
    "        super(SSLModel, self).__init__()\n",
    "        task_arg = argparse.Namespace(task='audio_pretraining')\n",
    "        task = fairseq.tasks.setup_task(task_arg)\n",
    "        cp_path = '/kaggle/input/w2v2_scoof/pytorch/default/1/xlsr2_300m.pt'   \n",
    "        model, cfg, task = fairseq.checkpoint_utils.load_model_ensemble_and_task([cp_path], task=task)\n",
    "        self.model = model[0].to(device) \n",
    "        self.device = device\n",
    "        self.out_dim = 1024\n",
    "\n",
    "    def extract_feat(self, input_data):\n",
    "        input_data = input_data.to(self.device)\n",
    "        input_tmp = input_data[:, :, 0] if input_data.ndim == 3 else input_data\n",
    "        emb = self.model(input_tmp, mask=False, features_only=True)['x']\n",
    "        return emb\n",
    "\n",
    "\n",
    "class PSFAN_Backend(nn.Module):\n",
    "    def __init__(self, input_channels=128, num_classes=2):\n",
    "        super(PSFAN_Backend, self).__init__()\n",
    "        \n",
    "        self.conv1 = nn.Conv1d(input_channels, 128, kernel_size=3, dilation=1, padding=1)\n",
    "        self.conv1x1_1 = nn.Conv1d(128, 128, kernel_size=1)\n",
    "        self.conv3x3_1 = nn.Conv1d(128, 128, kernel_size=3, padding=1)\n",
    "        self.conv1x1_2 = nn.Conv1d(128, 128, kernel_size=1)\n",
    "        self.attention1 = nn.Sigmoid()\n",
    "        self.pool1 = nn.MaxPool1d(kernel_size=3, stride=2, padding=1)\n",
    "        \n",
    "        self.conv2 = nn.Conv1d(128, 128, kernel_size=3, dilation=2, padding=2)\n",
    "        self.conv1x1_3 = nn.Conv1d(128, 128, kernel_size=1)\n",
    "        self.conv3x3_2 = nn.Conv1d(128, 128, kernel_size=3, padding=1)\n",
    "        self.conv1x1_4 = nn.Conv1d(128, 128, kernel_size=1)\n",
    "        self.attention2 = nn.Sigmoid()\n",
    "        self.pool2 = nn.MaxPool1d(kernel_size=3, stride=2, padding=1)\n",
    "\n",
    "        self.conv3 = nn.Conv1d(128, 256, kernel_size=3, dilation=3, padding=3)\n",
    "        self.conv1x1_5 = nn.Conv1d(256, 256, kernel_size=1)\n",
    "        self.conv3x3_3 = nn.Conv1d(256, 256, kernel_size=3, padding=1)\n",
    "        self.conv1x1_6 = nn.Conv1d(256, 256, kernel_size=1)\n",
    "        self.attention3 = nn.Sigmoid()\n",
    "        self.pool3 = nn.MaxPool1d(kernel_size=3, stride=2, padding=1)\n",
    "\n",
    "        self.conv4 = nn.Conv1d(256, 256, kernel_size=3, dilation=4, padding=4)\n",
    "        self.conv1x1_7 = nn.Conv1d(256, 256, kernel_size=1)\n",
    "        self.conv3x3_4 = nn.Conv1d(256, 256, kernel_size=3, padding=1)\n",
    "        self.conv1x1_8 = nn.Conv1d(256, 256, kernel_size=1)\n",
    "        self.attention4 = nn.Sigmoid()\n",
    "        self.pool4 = nn.MaxPool1d(kernel_size=3, stride=2, padding=1)\n",
    "\n",
    "        self.gap1 = nn.AdaptiveAvgPool1d(1)\n",
    "        self.gap2 = nn.AdaptiveAvgPool1d(1)\n",
    "        self.gap3 = nn.AdaptiveAvgPool1d(1)\n",
    "        self.gap4 = nn.AdaptiveAvgPool1d(1)\n",
    "        \n",
    "        self.fc_concat = nn.Linear(128 + 128 + 256 + 256, 16)  \n",
    "        self.fc_out = nn.Linear(16, num_classes) \n",
    "        \n",
    "        self.activation = nn.LeakyReLU(0.02)\n",
    "\n",
    "    def forward(self, x):\n",
    "        x1 = self.conv1(x)\n",
    "        x1_attention = self.attention1(self.conv1x1_1(self.conv3x3_1(self.conv1x1_2(x1))))\n",
    "        x1 = x1_attention * x1\n",
    "        x1 = self.pool1(x1)\n",
    "        x1_gap = self.gap1(x1).squeeze(-1)  \n",
    "\n",
    "        x2 = self.conv2(x1)\n",
    "        x2_attention = self.attention2(self.conv1x1_3(self.conv3x3_2(self.conv1x1_4(x2))))\n",
    "        x2 = x2_attention * x2\n",
    "        x2 = self.pool2(x2)\n",
    "        x2_gap = self.gap2(x2).squeeze(-1)\n",
    "\n",
    "        x3 = self.conv3(x2)\n",
    "        x3_attention = self.attention3(self.conv1x1_5(self.conv3x3_3(self.conv1x1_6(x3))))\n",
    "        x3 = x3_attention * x3\n",
    "        x3 = self.pool3(x3)\n",
    "        x3_gap = self.gap3(x3).squeeze(-1)\n",
    "\n",
    "        x4 = self.conv4(x3)\n",
    "        x4_attention = self.attention4(self.conv1x1_7(self.conv3x3_4(self.conv1x1_8(x4))))\n",
    "        x4 = x4_attention * x4\n",
    "        x4 = self.pool4(x4)\n",
    "        x4_gap = self.gap4(x4).squeeze(-1)\n",
    "\n",
    "        x_concat = torch.cat([x1_gap, x2_gap, x3_gap, x4_gap], dim=1)\n",
    "\n",
    "        x = self.activation(self.fc_concat(x_concat))  \n",
    "        output = self.fc_out(x) \n",
    "\n",
    "        return output\n",
    "\n",
    "\n",
    "class Model(nn.Module):\n",
    "    def __init__(self, device):\n",
    "        super(Model, self).__init__()\n",
    "        self.device = device\n",
    "        \n",
    "        self.ssl_model = SSLModel(self.device)\n",
    "        self.LL = nn.Linear(self.ssl_model.out_dim, 128).to(device)  \n",
    "        self.backend = PSFAN_Backend(input_channels=128, num_classes=2).to(device)\n",
    "\n",
    "    def forward(self, x):\n",
    "        x = x.to(self.device)\n",
    "\n",
    "        x_ssl_feat = self.ssl_model.extract_feat(x)\n",
    "        x = self.LL(x_ssl_feat) \n",
    "        x = x.transpose(1, 2)\n",
    "        \n",
    "        output = self.backend(x)\n",
    "        return output"
   ]
  },
  {
   "cell_type": "code",
   "execution_count": null,
   "metadata": {
    "execution": {
     "iopub.execute_input": "2024-11-24T05:09:12.003173Z",
     "iopub.status.busy": "2024-11-24T05:09:12.002686Z",
     "iopub.status.idle": "2024-11-24T05:09:47.932917Z",
     "shell.execute_reply": "2024-11-24T05:09:47.931997Z",
     "shell.execute_reply.started": "2024-11-24T05:09:12.003146Z"
    },
    "trusted": true
   },
   "outputs": [],
   "source": [
    "device = 'cuda' if torch.cuda.is_available() else 'cpu'\n",
    "model = Model(device)"
   ]
  },
  {
   "cell_type": "code",
   "execution_count": null,
   "metadata": {
    "execution": {
     "iopub.execute_input": "2024-11-24T05:09:47.935993Z",
     "iopub.status.busy": "2024-11-24T05:09:47.935107Z",
     "iopub.status.idle": "2024-11-24T05:09:58.498530Z",
     "shell.execute_reply": "2024-11-24T05:09:58.497678Z",
     "shell.execute_reply.started": "2024-11-24T05:09:47.935951Z"
    },
    "trusted": true
   },
   "outputs": [],
   "source": [
    "model.load_state_dict(torch.load('/kaggle/input/w2v2_scoof/pytorch/default/w2v2_scoof.pth', map_location=device))"
   ]
  },
  {
   "cell_type": "code",
   "execution_count": null,
   "metadata": {
    "execution": {
     "iopub.execute_input": "2024-11-24T05:09:58.500176Z",
     "iopub.status.busy": "2024-11-24T05:09:58.499810Z",
     "iopub.status.idle": "2024-11-24T05:09:58.505888Z",
     "shell.execute_reply": "2024-11-24T05:09:58.504965Z",
     "shell.execute_reply.started": "2024-11-24T05:09:58.500136Z"
    },
    "trusted": true
   },
   "outputs": [],
   "source": [
    "import os\n",
    "\n",
    "def get_data_for_dataset(path):\n",
    "    ids_list = []\n",
    "    label_list = []\n",
    "    with open(path, \"r\") as file:\n",
    "        for line in file:\n",
    "            line = line.split()\n",
    "            id, label = line[1], line[-1]\n",
    "            ids_list.append(id)\n",
    "            label = 1 if label == \"bonafide\" else 0\n",
    "            label_list.append(label)\n",
    "    return ids_list, label_list\n",
    "\n",
    "def get_data_for_evaldataset(path):\n",
    "    ids_list = os.listdir(path)\n",
    "    return ids_list"
   ]
  },
  {
   "cell_type": "code",
   "execution_count": null,
   "metadata": {
    "execution": {
     "iopub.execute_input": "2024-11-24T07:27:08.196975Z",
     "iopub.status.busy": "2024-11-24T07:27:08.196151Z",
     "iopub.status.idle": "2024-11-24T07:27:08.205629Z",
     "shell.execute_reply": "2024-11-24T07:27:08.204686Z",
     "shell.execute_reply.started": "2024-11-24T07:27:08.196938Z"
    },
    "trusted": true
   },
   "outputs": [],
   "source": [
    "def pad_random(x, max_len=64600):\n",
    "    x_len = x.shape[0]\n",
    "\n",
    "    if x_len > max_len:\n",
    "        stt = np.random.randint(x_len - max_len)\n",
    "        return x[stt:stt + max_len]\n",
    "\n",
    "    num_repeats = int(max_len / x_len) + 1\n",
    "    padded_x = np.tile(x, num_repeats)[:max_len]\n",
    "    return padded_x\n",
    "\n",
    "\n",
    "def pad(x, max_len=64600):\n",
    "    x_len = x.shape[0]\n",
    "    if x_len >= max_len:\n",
    "        return x[:max_len]\n",
    "    num_repeats = int(max_len / x_len) + 1\n",
    "    padded_x = np.tile(x, (1, num_repeats))[:, :max_len][0]\n",
    "    return padded_x\n",
    "\n",
    "class EvalDataset(Dataset):\n",
    "    def __init__(self, ids, dir_path, pad_fn=pad_random, cut=64600):\n",
    "        self.ids = ids\n",
    "        self.dir_path = dir_path\n",
    "        self.cut = cut\n",
    "        self.pad_fn = pad_fn\n",
    "\n",
    "    def __getitem__(self, index):\n",
    "        path_to_wav = f\"{self.dir_path}/{self.ids[index]}\"\n",
    "        audio, rate = sf.read(path_to_wav)\n",
    "        x_pad = self.pad_fn(audio, self.cut)\n",
    "        x_inp = Tensor(x_pad)\n",
    "        return x_inp, self.ids[index]\n",
    "\n",
    "    def __len__(self):\n",
    "        return len(self.ids)"
   ]
  },
  {
   "cell_type": "code",
   "execution_count": null,
   "metadata": {
    "execution": {
     "iopub.execute_input": "2024-11-24T07:27:11.325753Z",
     "iopub.status.busy": "2024-11-24T07:27:11.325393Z",
     "iopub.status.idle": "2024-11-24T07:27:11.330948Z",
     "shell.execute_reply": "2024-11-24T07:27:11.330022Z",
     "shell.execute_reply.started": "2024-11-24T07:27:11.325722Z"
    },
    "trusted": true
   },
   "outputs": [],
   "source": [
    "config = {\n",
    "  \"model\": \"ResCapsGuard\",\n",
    "  \"batch_size\": 8,\n",
    "  \"d_args\": {\n",
    "      \"nb_samp\": 64600,\n",
    "      \"first_conv\": 128,\n",
    "      \"filts\": [70, [1, 32], [32, 32], [32, 64], [64, 64]]\n",
    "  },\n",
    "  \"device\": \"cuda:0\",\n",
    "  \"num_class\": 2,\n",
    "  \"gpu_id\": 0,\n",
    "  \"dropout\": 0.05,\n",
    "  \"random_size\": 0.01,\n",
    "  \"num_iterations\": 2,\n",
    "  \"gamma\": 0.5,\n",
    "  \"step_size\": 10,\n",
    "  \"produced_file\": \"pruduced_file.txt\",\n",
    "  \"num_workers\": 6\n",
    "}"
   ]
  },
  {
   "cell_type": "code",
   "execution_count": null,
   "metadata": {
    "execution": {
     "iopub.execute_input": "2024-11-24T07:27:12.588192Z",
     "iopub.status.busy": "2024-11-24T07:27:12.587394Z",
     "iopub.status.idle": "2024-11-24T07:27:12.593628Z",
     "shell.execute_reply": "2024-11-24T07:27:12.592653Z",
     "shell.execute_reply.started": "2024-11-24T07:27:12.588158Z"
    },
    "trusted": true
   },
   "outputs": [],
   "source": [
    "def get_dataloaders(datasets, config):\n",
    "    dataloaders = {}\n",
    "\n",
    "    if datasets.get(\"train\"):\n",
    "        train_loader = DataLoader(\n",
    "            datasets[\"train\"],\n",
    "            batch_size=config[\"batch_size\"],\n",
    "            shuffle=True,\n",
    "            num_workers=config[\"num_workers\"]\n",
    "        )\n",
    "        dataloaders[\"train\"] = train_loader\n",
    "    if datasets.get(\"dev\"):\n",
    "        dev_loader = DataLoader(\n",
    "            datasets[\"dev\"],\n",
    "            batch_size=config[\"batch_size\"],\n",
    "            shuffle=False,\n",
    "            num_workers=config[\"num_workers\"]\n",
    "        )\n",
    "        dataloaders[\"dev\"] = dev_loader\n",
    "\n",
    "    if datasets.get(\"eval\"):\n",
    "        eval_loader = DataLoader(\n",
    "            datasets[\"eval\"],\n",
    "            batch_size=config[\"batch_size\"],\n",
    "            shuffle=False,\n",
    "            num_workers=config[\"num_workers\"]\n",
    "        )\n",
    "        dataloaders[\"eval\"] = eval_loader\n",
    "\n",
    "    return dataloaders"
   ]
  },
  {
   "cell_type": "code",
   "execution_count": null,
   "metadata": {
    "execution": {
     "iopub.execute_input": "2024-11-24T07:27:16.420578Z",
     "iopub.status.busy": "2024-11-24T07:27:16.419699Z",
     "iopub.status.idle": "2024-11-24T07:27:16.429604Z",
     "shell.execute_reply": "2024-11-24T07:27:16.428776Z",
     "shell.execute_reply.started": "2024-11-24T07:27:16.420535Z"
    },
    "trusted": true
   },
   "outputs": [],
   "source": [
    "def progressbar(it, prefix=\"\", size=60, out=sys.stdout):\n",
    "    count = len(it)\n",
    "    start = time.time()\n",
    "\n",
    "    def show(j):\n",
    "        x = int(size * j / count)\n",
    "        remaining = ((time.time() - start) / j) * (count - j)\n",
    "        passing = time.time() - start\n",
    "        mins_pas, sec_pass = divmod(passing, 60)\n",
    "        time_pas = f\"{int(mins_pas):02}:{sec_pass:05.2f}\"\n",
    "\n",
    "        mins, sec = divmod(remaining, 60)\n",
    "        time_str = f\"{int(mins):02}:{sec:05.2f}\"\n",
    "\n",
    "        print(f\"{prefix}[{u'█' * x}{('.' * (size - x))}] {j}/{count} time {time_pas} / {time_str}\", end='\\r', file=out,\n",
    "              flush=True)\n",
    "\n",
    "    for i, item in enumerate(it):\n",
    "        yield item\n",
    "        show(i + 1)\n",
    "    print(\"\\n\", flush=True, file=out)\n",
    "\n",
    "@torch.inference_mode\n",
    "def produce_submit_file(data_loader,\n",
    "                            model,\n",
    "                            device,\n",
    "                            save_path,\n",
    "                            random=False,\n",
    "                            dropout=0):\n",
    "    \"\"\"\n",
    "    Create file, that need to give in function calculcate_t-DCF_EER\n",
    "    args:\n",
    "        data_loader: loader, that gives batch to model\n",
    "        model: model, that calculate what we need\n",
    "        device: device for data, model\n",
    "        save_path: path where file shoud be saved\n",
    "    \"\"\"\n",
    "\n",
    "    model.eval()\n",
    "\n",
    "    fname_list = []\n",
    "    score_list = []\n",
    "    for batch_x, utt_id in progressbar(data_loader, prefix='computing cm score'):\n",
    "        batch_x = batch_x.to(device)\n",
    "        with torch.no_grad():\n",
    "            batch_out = model.forward(batch_x)\n",
    "            prob = nn.functional.softmax(batch_out, dim=1)\n",
    "            batch_score = (prob[:, 1]).data.cpu().numpy().ravel()\n",
    "\n",
    "        fname_list.extend(utt_id)\n",
    "        score_list.extend(batch_score.tolist())\n",
    "    assert len(fname_list) == len(score_list)\n",
    "\n",
    "    return fname_list, score_list"
   ]
  },
  {
   "cell_type": "code",
   "execution_count": null,
   "metadata": {
    "execution": {
     "iopub.execute_input": "2024-11-24T07:27:16.990780Z",
     "iopub.status.busy": "2024-11-24T07:27:16.990393Z",
     "iopub.status.idle": "2024-11-24T09:31:49.974014Z",
     "shell.execute_reply": "2024-11-24T09:31:49.973073Z",
     "shell.execute_reply.started": "2024-11-24T07:27:16.990749Z"
    },
    "trusted": true
   },
   "outputs": [],
   "source": [
    "path_wav = '/kaggle/input/safe-speak-2024-audio-spoof-detection-hackathon/wavs'\n",
    "out_path = 'output_hz'\n",
    "eval_ids = get_data_for_evaldataset(path_wav)\n",
    "\n",
    "eval_dataset = EvalDataset(eval_ids, path_wav, pad)\n",
    "eval_dataset = {\n",
    "    \"eval\": eval_dataset\n",
    "}\n",
    "dataloader = get_dataloaders(eval_dataset, config)\n",
    "\n",
    "fname_list, score_list = produce_submit_file(dataloader[\"eval\"], model, device, out_path)"
   ]
  },
  {
   "cell_type": "code",
   "execution_count": null,
   "metadata": {
    "execution": {
     "iopub.execute_input": "2024-11-24T09:49:03.300038Z",
     "iopub.status.busy": "2024-11-24T09:49:03.299686Z",
     "iopub.status.idle": "2024-11-24T09:49:03.803327Z",
     "shell.execute_reply": "2024-11-24T09:49:03.802484Z",
     "shell.execute_reply.started": "2024-11-24T09:49:03.300007Z"
    },
    "trusted": true
   },
   "outputs": [],
   "source": [
    "import pandas as pd\n",
    "out_path = 'output_score.csv'\n",
    "with open(out_path, \"w\") as fh:\n",
    "    for fn, sco in zip(fname_list, score_list):\n",
    "        if \".wav\" in fn:\n",
    "            fn = fn.replace(\".wav\", \"\")\n",
    "        fh.write(\"{} {}\\n\".format(fn, sco))\n",
    "df = pd.read_csv(out_path, sep=\" \", names=[\"ID\", \"score\"])\n",
    "df.to_csv(out_path, index=False)\n",
    "print(\"Scores saved to {}\".format(out_path))"
   ]
  }
 ],
 "metadata": {
  "kaggle": {
   "accelerator": "none",
   "dataSources": [
    {
     "databundleVersionId": 10051766,
     "sourceId": 87433,
     "sourceType": "competition"
    },
    {
     "modelId": 172570,
     "modelInstanceId": 150079,
     "sourceId": 176260,
     "sourceType": "modelInstanceVersion"
    }
   ],
   "dockerImageVersionId": 30786,
   "isGpuEnabled": false,
   "isInternetEnabled": true,
   "language": "python",
   "sourceType": "notebook"
  },
  "kernelspec": {
   "display_name": "Python 3",
   "language": "python",
   "name": "python3"
  },
  "language_info": {
   "codemirror_mode": {
    "name": "ipython",
    "version": 3
   },
   "file_extension": ".py",
   "mimetype": "text/x-python",
   "name": "python",
   "nbconvert_exporter": "python",
   "pygments_lexer": "ipython3",
   "version": "3.10.14"
  }
 },
 "nbformat": 4,
 "nbformat_minor": 4
}
